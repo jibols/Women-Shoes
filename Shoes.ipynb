{
 "cells": [
  {
   "cell_type": "code",
   "execution_count": 571,
   "metadata": {},
   "outputs": [],
   "source": [
    "# Import python libraries for data wrangling\n",
    "import pandas as pd\n",
    "import numpy as np\n",
    "from urllib.parse import urlparse"
   ]
  },
  {
   "cell_type": "code",
   "execution_count": 572,
   "metadata": {},
   "outputs": [],
   "source": [
    "shoes_one = pd.read_csv(\"Datafiniti_Womens_Shoes.csv\")\n",
    "shoes_two = pd.read_csv(\"Datafiniti_Womens_Shoes_Jun19.csv\")\n",
    "#shoes_three =  pd.read_csv(\"7210_1.csv\")"
   ]
  },
  {
   "cell_type": "code",
   "execution_count": 574,
   "metadata": {},
   "outputs": [
    {
     "name": "stdout",
     "output_type": "stream",
     "text": [
      "There are 10000 rows and 34 columnns in the dataset\n",
      "There are 10000 rows and 32 columnns in the dataset\n"
     ]
    }
   ],
   "source": [
    "print(\"There are {} rows and {} columnns in the dataset\".format(shoes_one.shape[0],   shoes_one.shape[1]))\n",
    "print(\"There are {} rows and {} columnns in the dataset\".format(shoes_two.shape[0],   shoes_two.shape[1]))"
   ]
  },
  {
   "cell_type": "code",
   "execution_count": 576,
   "metadata": {},
   "outputs": [
    {
     "name": "stdout",
     "output_type": "stream",
     "text": [
      "There are 0 null values in the sourceURLs column\n",
      "There are 9565 null values in the merchant column\n",
      "There are 0 null values in the sourceURLs column\n",
      "There are 10000 null values in the merchant column\n"
     ]
    }
   ],
   "source": [
    "print(\"There are {} null values in the sourceURLs column\".format(shoes_one['prices.sourceURLs'].isnull().sum()))\n",
    "print(\"There are {} null values in the merchant column\".format(shoes_one['prices.merchant'].isna().sum()))\n",
    "print(\"There are {} null values in the sourceURLs column\".format(shoes_two['prices.sourceURLs'].isna().sum()))\n",
    "print(\"There are {} null values in the merchant column\".format(shoes_two['prices.merchant'].isna().sum()))"
   ]
  },
  {
   "cell_type": "code",
   "execution_count": 577,
   "metadata": {},
   "outputs": [],
   "source": [
    "shoes_one.drop_duplicates(subset =\"id\",keep = False, inplace = True)\n",
    "shoes_one = shoes.reset_index(drop = True)\n",
    "shoes_two.drop_duplicates(subset =\"id\",keep = False, inplace = True)\n",
    "shoes_one = shoes.reset_index(drop = True)"
   ]
  },
  {
   "cell_type": "code",
   "execution_count": 578,
   "metadata": {},
   "outputs": [
    {
     "data": {
      "text/html": [
       "<div>\n",
       "<style scoped>\n",
       "    .dataframe tbody tr th:only-of-type {\n",
       "        vertical-align: middle;\n",
       "    }\n",
       "\n",
       "    .dataframe tbody tr th {\n",
       "        vertical-align: top;\n",
       "    }\n",
       "\n",
       "    .dataframe thead th {\n",
       "        text-align: right;\n",
       "    }\n",
       "</style>\n",
       "<table border=\"1\" class=\"dataframe\">\n",
       "  <thead>\n",
       "    <tr style=\"text-align: right;\">\n",
       "      <th></th>\n",
       "      <th>id</th>\n",
       "      <th>brand</th>\n",
       "      <th>categories</th>\n",
       "      <th>prices.amountMax</th>\n",
       "      <th>prices.amountMin</th>\n",
       "      <th>prices.size</th>\n",
       "      <th>prices.sourceURLs</th>\n",
       "    </tr>\n",
       "  </thead>\n",
       "  <tbody>\n",
       "    <tr>\n",
       "      <th>0</th>\n",
       "      <td>AVpfEf_hLJeJML431ueH</td>\n",
       "      <td>Naturalizer</td>\n",
       "      <td>Clothing,Shoes,Women's Shoes,All Women's Shoes...</td>\n",
       "      <td>55.99</td>\n",
       "      <td>55.99</td>\n",
       "      <td>S</td>\n",
       "      <td>https://www.overstock.com/Clothing-Shoes/Women...</td>\n",
       "    </tr>\n",
       "    <tr>\n",
       "      <th>1</th>\n",
       "      <td>AVpi74XfLJeJML43qZAc</td>\n",
       "      <td>MUK LUKS</td>\n",
       "      <td>Clothing,Shoes,Women's Shoes,Women's Casual Sh...</td>\n",
       "      <td>47.00</td>\n",
       "      <td>35.25</td>\n",
       "      <td>6</td>\n",
       "      <td>https://www.walmart.com/ip/MUK-LUKS-Womens-Jan...</td>\n",
       "    </tr>\n",
       "    <tr>\n",
       "      <th>2</th>\n",
       "      <td>AVpi74XfLJeJML43qZAc</td>\n",
       "      <td>MUK LUKS</td>\n",
       "      <td>Clothing,Shoes,Women's Shoes,Women's Casual Sh...</td>\n",
       "      <td>35.25</td>\n",
       "      <td>35.25</td>\n",
       "      <td>6</td>\n",
       "      <td>https://www.walmart.com/ip/MUK-LUKS-Womens-Jan...</td>\n",
       "    </tr>\n",
       "    <tr>\n",
       "      <th>3</th>\n",
       "      <td>AVpjXyCc1cnluZ0-V-Gj</td>\n",
       "      <td>MUK LUKS</td>\n",
       "      <td>Clothing,Shoes,Women's Shoes,All Women's Shoes...</td>\n",
       "      <td>24.75</td>\n",
       "      <td>24.75</td>\n",
       "      <td>6</td>\n",
       "      <td>https://www.walmart.com/ip/MUK-LUKS-Womens-Daw...</td>\n",
       "    </tr>\n",
       "    <tr>\n",
       "      <th>4</th>\n",
       "      <td>AVphGKLPilAPnD_x1Nrm</td>\n",
       "      <td>MUK LUKS</td>\n",
       "      <td>Clothing,Shoes,Women's Shoes,All Women's Shoes...</td>\n",
       "      <td>33.00</td>\n",
       "      <td>30.39</td>\n",
       "      <td>6</td>\n",
       "      <td>https://www.walmart.com/ip/MUK-LUKS-Womens-Daw...</td>\n",
       "    </tr>\n",
       "    <tr>\n",
       "      <th>5</th>\n",
       "      <td>AVpg91ziilAPnD_xziOo</td>\n",
       "      <td>Soft Ones</td>\n",
       "      <td>Womens Shoes,Clothing,Women's Shoes,Baby &amp; Kid...</td>\n",
       "      <td>14.00</td>\n",
       "      <td>7.90</td>\n",
       "      <td>5</td>\n",
       "      <td>https://www.walmart.com/ip/MUK-LUKS-Sock-Monke...</td>\n",
       "    </tr>\n",
       "    <tr>\n",
       "      <th>6</th>\n",
       "      <td>AVpjGKXyLJeJML43r8BH</td>\n",
       "      <td>MUK LUKS</td>\n",
       "      <td>MUK LUKS,Womens,Women's Casual Shoes,Clothing,...</td>\n",
       "      <td>24.00</td>\n",
       "      <td>12.79</td>\n",
       "      <td>SMALL</td>\n",
       "      <td>https://www.kohls.com/product/prd-1780800/wome...</td>\n",
       "    </tr>\n",
       "    <tr>\n",
       "      <th>7</th>\n",
       "      <td>AVpjGKXyLJeJML43r8BH</td>\n",
       "      <td>MUK LUKS</td>\n",
       "      <td>MUK LUKS,Womens,Women's Casual Shoes,Clothing,...</td>\n",
       "      <td>24.00</td>\n",
       "      <td>12.79</td>\n",
       "      <td>MEDIUM</td>\n",
       "      <td>https://www.kohls.com/product/prd-1780800/wome...</td>\n",
       "    </tr>\n",
       "    <tr>\n",
       "      <th>8</th>\n",
       "      <td>AVpfLXyhilAPnD_xWmNc</td>\n",
       "      <td>MUK LUKS</td>\n",
       "      <td>Clothing,Shoes,Women's Shoes,All Women's Shoes</td>\n",
       "      <td>59.00</td>\n",
       "      <td>39.88</td>\n",
       "      <td>6</td>\n",
       "      <td>https://www.walmart.com/ip/MUK-LUKS-Women-s-Ma...</td>\n",
       "    </tr>\n",
       "    <tr>\n",
       "      <th>9</th>\n",
       "      <td>AVpfeWdJ1cnluZ0-lXYU</td>\n",
       "      <td>MUK LUKS</td>\n",
       "      <td>Clothing,Shoes,Women's Shoes,Women's Winter Bo...</td>\n",
       "      <td>59.00</td>\n",
       "      <td>47.99</td>\n",
       "      <td>6</td>\n",
       "      <td>https://www.walmart.com/ip/MUK-LUKS-Women-s-Ma...</td>\n",
       "    </tr>\n",
       "  </tbody>\n",
       "</table>\n",
       "</div>"
      ],
      "text/plain": [
       "                     id        brand  \\\n",
       "0  AVpfEf_hLJeJML431ueH  Naturalizer   \n",
       "1  AVpi74XfLJeJML43qZAc     MUK LUKS   \n",
       "2  AVpi74XfLJeJML43qZAc     MUK LUKS   \n",
       "3  AVpjXyCc1cnluZ0-V-Gj     MUK LUKS   \n",
       "4  AVphGKLPilAPnD_x1Nrm     MUK LUKS   \n",
       "5  AVpg91ziilAPnD_xziOo    Soft Ones   \n",
       "6  AVpjGKXyLJeJML43r8BH     MUK LUKS   \n",
       "7  AVpjGKXyLJeJML43r8BH     MUK LUKS   \n",
       "8  AVpfLXyhilAPnD_xWmNc     MUK LUKS   \n",
       "9  AVpfeWdJ1cnluZ0-lXYU     MUK LUKS   \n",
       "\n",
       "                                          categories  prices.amountMax  \\\n",
       "0  Clothing,Shoes,Women's Shoes,All Women's Shoes...             55.99   \n",
       "1  Clothing,Shoes,Women's Shoes,Women's Casual Sh...             47.00   \n",
       "2  Clothing,Shoes,Women's Shoes,Women's Casual Sh...             35.25   \n",
       "3  Clothing,Shoes,Women's Shoes,All Women's Shoes...             24.75   \n",
       "4  Clothing,Shoes,Women's Shoes,All Women's Shoes...             33.00   \n",
       "5  Womens Shoes,Clothing,Women's Shoes,Baby & Kid...             14.00   \n",
       "6  MUK LUKS,Womens,Women's Casual Shoes,Clothing,...             24.00   \n",
       "7  MUK LUKS,Womens,Women's Casual Shoes,Clothing,...             24.00   \n",
       "8     Clothing,Shoes,Women's Shoes,All Women's Shoes             59.00   \n",
       "9  Clothing,Shoes,Women's Shoes,Women's Winter Bo...             59.00   \n",
       "\n",
       "   prices.amountMin prices.size  \\\n",
       "0             55.99           S   \n",
       "1             35.25           6   \n",
       "2             35.25           6   \n",
       "3             24.75           6   \n",
       "4             30.39           6   \n",
       "5              7.90           5   \n",
       "6             12.79       SMALL   \n",
       "7             12.79      MEDIUM   \n",
       "8             39.88           6   \n",
       "9             47.99           6   \n",
       "\n",
       "                                   prices.sourceURLs  \n",
       "0  https://www.overstock.com/Clothing-Shoes/Women...  \n",
       "1  https://www.walmart.com/ip/MUK-LUKS-Womens-Jan...  \n",
       "2  https://www.walmart.com/ip/MUK-LUKS-Womens-Jan...  \n",
       "3  https://www.walmart.com/ip/MUK-LUKS-Womens-Daw...  \n",
       "4  https://www.walmart.com/ip/MUK-LUKS-Womens-Daw...  \n",
       "5  https://www.walmart.com/ip/MUK-LUKS-Sock-Monke...  \n",
       "6  https://www.kohls.com/product/prd-1780800/wome...  \n",
       "7  https://www.kohls.com/product/prd-1780800/wome...  \n",
       "8  https://www.walmart.com/ip/MUK-LUKS-Women-s-Ma...  \n",
       "9  https://www.walmart.com/ip/MUK-LUKS-Women-s-Ma...  "
      ]
     },
     "execution_count": 578,
     "metadata": {},
     "output_type": "execute_result"
    }
   ],
   "source": [
    "shoes_one.head(10)"
   ]
  },
  {
   "cell_type": "code",
   "execution_count": 549,
   "metadata": {},
   "outputs": [
    {
     "name": "stdout",
     "output_type": "stream",
     "text": [
      "There are 10000 rows and 34 columnns in the dataset\n",
      "There are 8696 rows and 32 columnns in the dataset\n"
     ]
    }
   ],
   "source": [
    "# After removing duplicates\n",
    "print(\"There are {} rows and {} columnns in the dataset\".format(shoes_one.shape[0],   shoes_one.shape[1]))\n",
    "print(\"There are {} rows and {} columnns in the dataset\".format(shoes_two.shape[0],   shoes_two.shape[1]))"
   ]
  },
  {
   "cell_type": "code",
   "execution_count": null,
   "metadata": {},
   "outputs": [],
   "source": [
    "# Merge both dataframes"
   ]
  },
  {
   "cell_type": "code",
   "execution_count": 570,
   "metadata": {},
   "outputs": [
    {
     "ename": "NameError",
     "evalue": "name 'combined_shoes' is not defined",
     "output_type": "error",
     "traceback": [
      "\u001b[1;31m---------------------------------------------------------------------------\u001b[0m",
      "\u001b[1;31mNameError\u001b[0m                                 Traceback (most recent call last)",
      "\u001b[1;32m<ipython-input-570-30c7781e5ef6>\u001b[0m in \u001b[0;36m<module>\u001b[1;34m\u001b[0m\n\u001b[0;32m      1\u001b[0m \u001b[0mcols\u001b[0m \u001b[1;33m=\u001b[0m \u001b[1;33m[\u001b[0m\u001b[1;34m'id'\u001b[0m\u001b[1;33m,\u001b[0m \u001b[1;34m'brand'\u001b[0m\u001b[1;33m,\u001b[0m \u001b[1;34m'categories'\u001b[0m\u001b[1;33m,\u001b[0m \u001b[1;34m'prices.amountMax'\u001b[0m\u001b[1;33m,\u001b[0m\u001b[1;34m'prices.amountMin'\u001b[0m\u001b[1;33m,\u001b[0m \u001b[1;34m'prices.size'\u001b[0m\u001b[1;33m,\u001b[0m \u001b[1;34m'prices.sourceURLs'\u001b[0m\u001b[1;33m]\u001b[0m\u001b[1;33m\u001b[0m\u001b[0m\n\u001b[1;32m----> 2\u001b[1;33m \u001b[0mcombined_shoes\u001b[0m \u001b[1;33m=\u001b[0m \u001b[0mcombined_shoes\u001b[0m\u001b[1;33m[\u001b[0m\u001b[0mcols\u001b[0m\u001b[1;33m]\u001b[0m\u001b[1;33m\u001b[0m\u001b[0m\n\u001b[0m\u001b[0;32m      3\u001b[0m \u001b[1;31m#shoes.columns = ['id', 'brand', 'categories', 'Max','Min']\u001b[0m\u001b[1;33m\u001b[0m\u001b[1;33m\u001b[0m\u001b[0m\n",
      "\u001b[1;31mNameError\u001b[0m: name 'combined_shoes' is not defined"
     ]
    }
   ],
   "source": [
    "cols = ['id', 'brand', 'categories', 'prices.amountMax','prices.amountMin', 'prices.size', 'prices.sourceURLs']\n",
    "combined_shoes = combined_shoes[cols]\n",
    "#shoes.columns = ['id', 'brand', 'categories', 'Max','Min']"
   ]
  },
  {
   "cell_type": "code",
   "execution_count": 567,
   "metadata": {},
   "outputs": [],
   "source": [
    "def parse_url(data):\n",
    "    domain = urlparse(data).netloc\n",
    "    domain = domain.split(\".\")[1:]\n",
    "    host = \".\".join(domain)\n",
    "    return host"
   ]
  },
  {
   "cell_type": "markdown",
   "metadata": {},
   "source": [
    "We neeed to extract the merchant name from the url, as we will like to the see the shoe sales spread across the merchants"
   ]
  },
  {
   "cell_type": "code",
   "execution_count": null,
   "metadata": {},
   "outputs": [],
   "source": [
    "combined_shoes['Merchant'] = combined_shoes['prices.sourceURLs'].apply(doubleData)"
   ]
  },
  {
   "cell_type": "code",
   "execution_count": 467,
   "metadata": {},
   "outputs": [],
   "source": [
    "#shoes['prices.sourceURLs'].str.split(\"//\")[-1].split(\"/\")[0].split(\"www.\")[1].split(\".com\")[0]"
   ]
  },
  {
   "cell_type": "code",
   "execution_count": 468,
   "metadata": {},
   "outputs": [
    {
     "data": {
      "text/plain": [
       "'walmart'"
      ]
     },
     "execution_count": 468,
     "metadata": {},
     "output_type": "execute_result"
    }
   ],
   "source": [
    "myString.split(\"//\")[-1].split(\"/\")[0].split(\"www.\")[1].split(\".com\")[0]"
   ]
  },
  {
   "cell_type": "code",
   "execution_count": 469,
   "metadata": {},
   "outputs": [],
   "source": [
    "#shoes['prices.merchant'].value_counts()"
   ]
  },
  {
   "cell_type": "code",
   "execution_count": 470,
   "metadata": {},
   "outputs": [],
   "source": [
    "#cols_with_missing = [col for col in shoes.columns if shoes[col].isnull().any()] \n",
    "#shoes.drop(cols_with_missing, axis=1, inplace=True)"
   ]
  },
  {
   "cell_type": "code",
   "execution_count": 471,
   "metadata": {},
   "outputs": [],
   "source": [
    "#shoes.columns"
   ]
  },
  {
   "cell_type": "code",
   "execution_count": 545,
   "metadata": {},
   "outputs": [
    {
     "ename": "NameError",
     "evalue": "name 'combined_shoes' is not defined",
     "output_type": "error",
     "traceback": [
      "\u001b[1;31m---------------------------------------------------------------------------\u001b[0m",
      "\u001b[1;31mNameError\u001b[0m                                 Traceback (most recent call last)",
      "\u001b[1;32m<ipython-input-545-a90ee13aab4f>\u001b[0m in \u001b[0;36m<module>\u001b[1;34m\u001b[0m\n\u001b[0;32m      1\u001b[0m \u001b[1;31m# How many unique brands\u001b[0m\u001b[1;33m\u001b[0m\u001b[1;33m\u001b[0m\u001b[0m\n\u001b[1;32m----> 2\u001b[1;33m \u001b[0mprint\u001b[0m\u001b[1;33m(\u001b[0m\u001b[1;34m\"There are {} unique brands in the dataset\"\u001b[0m\u001b[1;33m.\u001b[0m\u001b[0mformat\u001b[0m\u001b[1;33m(\u001b[0m\u001b[0mcombined_shoes\u001b[0m\u001b[1;33m[\u001b[0m\u001b[1;34m'brand'\u001b[0m\u001b[1;33m]\u001b[0m\u001b[1;33m.\u001b[0m\u001b[0mnunique\u001b[0m\u001b[1;33m(\u001b[0m\u001b[1;33m)\u001b[0m\u001b[1;33m)\u001b[0m\u001b[1;33m)\u001b[0m\u001b[1;33m\u001b[0m\u001b[0m\n\u001b[0m\u001b[0;32m      3\u001b[0m \u001b[1;31m# How many unique categories\u001b[0m\u001b[1;33m\u001b[0m\u001b[1;33m\u001b[0m\u001b[0m\n\u001b[0;32m      4\u001b[0m \u001b[0mprint\u001b[0m\u001b[1;33m(\u001b[0m\u001b[1;34m\"There are {} unique categories in the dataset\"\u001b[0m\u001b[1;33m.\u001b[0m\u001b[0mformat\u001b[0m\u001b[1;33m(\u001b[0m\u001b[0mcombined_shoes\u001b[0m\u001b[1;33m[\u001b[0m\u001b[1;34m'categories'\u001b[0m\u001b[1;33m]\u001b[0m\u001b[1;33m.\u001b[0m\u001b[0mnunique\u001b[0m\u001b[1;33m(\u001b[0m\u001b[1;33m)\u001b[0m\u001b[1;33m)\u001b[0m\u001b[1;33m)\u001b[0m\u001b[1;33m\u001b[0m\u001b[0m\n",
      "\u001b[1;31mNameError\u001b[0m: name 'combined_shoes' is not defined"
     ]
    }
   ],
   "source": [
    "# How many unique brands\n",
    "print(\"There are {} unique brands in the dataset\".format(combined_shoes['brand'].nunique()))\n",
    "# How many unique categories\n",
    "print(\"There are {} unique categories in the dataset\".format(combined_shoes['categories'].nunique()))"
   ]
  },
  {
   "cell_type": "code",
   "execution_count": 475,
   "metadata": {},
   "outputs": [],
   "source": [
    "# What is the price range in the dataset\n",
    "shoes.loc[:,'Range'] = shoes['Max'] - shoes['Min']"
   ]
  },
  {
   "cell_type": "code",
   "execution_count": 476,
   "metadata": {},
   "outputs": [],
   "source": [
    "#What is the average price of each distinct brand listed?\n",
    "shoes['Average'] = (shoes['Max'] + shoes['Min'])/2"
   ]
  },
  {
   "cell_type": "code",
   "execution_count": null,
   "metadata": {},
   "outputs": [],
   "source": []
  },
  {
   "cell_type": "code",
   "execution_count": 477,
   "metadata": {},
   "outputs": [
    {
     "name": "stdout",
     "output_type": "stream",
     "text": [
      "The most expensive brand is Red Wing with a price of 289.95\n"
     ]
    }
   ],
   "source": [
    "#Which brands have the highest prices?\n",
    "highest_prices = shoes.groupby('brand').max()[\"Max\"]\n",
    "highest = highest_prices[highest_prices == highest_prices.max()]\n",
    "print(\"The most expensive brand is {} with a price of {}\".format(next(highest.iteritems())[0],next(highest.iteritems())[1]))"
   ]
  },
  {
   "cell_type": "code",
   "execution_count": 478,
   "metadata": {},
   "outputs": [
    {
     "name": "stdout",
     "output_type": "stream",
     "text": [
      "The least expensive brand is Unbranded with a price of 4.88\n"
     ]
    }
   ],
   "source": [
    "#Which brand is the cheapest the highest prices?\n",
    "lowest_prices = shoes.groupby('brand').min()[\"Min\"]\n",
    "lowest = lowest_prices[lowest_prices == lowest_prices.min()]\n",
    "print(\"The least expensive brand is {} with a price of {}\".format(next(lowest.iteritems())[0],next(lowest.iteritems())[1]))"
   ]
  },
  {
   "cell_type": "code",
   "execution_count": 483,
   "metadata": {},
   "outputs": [
    {
     "data": {
      "text/plain": [
       "pandas.core.frame.DataFrame"
      ]
     },
     "execution_count": 483,
     "metadata": {},
     "output_type": "execute_result"
    }
   ],
   "source": [
    "type(shoes.nlargest(5, 'Max'))"
   ]
  },
  {
   "cell_type": "code",
   "execution_count": 422,
   "metadata": {},
   "outputs": [
    {
     "ename": "ValueError",
     "evalue": "Can only compare identically-labeled Series objects",
     "output_type": "error",
     "traceback": [
      "\u001b[1;31m---------------------------------------------------------------------------\u001b[0m",
      "\u001b[1;31mValueError\u001b[0m                                Traceback (most recent call last)",
      "\u001b[1;32m<ipython-input-422-b6b69d6db05a>\u001b[0m in \u001b[0;36m<module>\u001b[1;34m\u001b[0m\n\u001b[0;32m      1\u001b[0m \u001b[1;31m#Which ones have the widest distribution of prices?\u001b[0m\u001b[1;33m\u001b[0m\u001b[1;33m\u001b[0m\u001b[0m\n\u001b[0;32m      2\u001b[0m \u001b[0mdistribution\u001b[0m \u001b[1;33m=\u001b[0m \u001b[0mshoes\u001b[0m\u001b[1;33m.\u001b[0m\u001b[0mgroupby\u001b[0m\u001b[1;33m(\u001b[0m\u001b[1;34m'brand'\u001b[0m\u001b[1;33m)\u001b[0m\u001b[1;33m.\u001b[0m\u001b[0mmax\u001b[0m\u001b[1;33m(\u001b[0m\u001b[1;33m)\u001b[0m\u001b[1;33m[\u001b[0m\u001b[1;34m\"Range\"\u001b[0m\u001b[1;33m]\u001b[0m\u001b[1;33m\u001b[0m\u001b[0m\n\u001b[1;32m----> 3\u001b[1;33m \u001b[0mwidest\u001b[0m \u001b[1;33m=\u001b[0m \u001b[0mdistribution\u001b[0m\u001b[1;33m[\u001b[0m\u001b[0mdistribution\u001b[0m \u001b[1;33m==\u001b[0m \u001b[0mdistribution\u001b[0m\u001b[1;33m.\u001b[0m\u001b[0mnlargest\u001b[0m\u001b[1;33m(\u001b[0m\u001b[1;36m3\u001b[0m\u001b[1;33m)\u001b[0m\u001b[1;33m]\u001b[0m\u001b[1;33m\u001b[0m\u001b[0m\n\u001b[0m\u001b[0;32m      4\u001b[0m \u001b[1;31m#print(\"The most expensive brand is {} with a price of {}\".format(next(highest.iteritems())[0],next(highest.iteritems())[1]))\u001b[0m\u001b[1;33m\u001b[0m\u001b[1;33m\u001b[0m\u001b[0m\n",
      "\u001b[1;32mc:\\python36\\lib\\site-packages\\pandas\\core\\ops.py\u001b[0m in \u001b[0;36mwrapper\u001b[1;34m(self, other, axis)\u001b[0m\n\u001b[0;32m   1674\u001b[0m \u001b[1;33m\u001b[0m\u001b[0m\n\u001b[0;32m   1675\u001b[0m         \u001b[1;32melif\u001b[0m \u001b[0misinstance\u001b[0m\u001b[1;33m(\u001b[0m\u001b[0mother\u001b[0m\u001b[1;33m,\u001b[0m \u001b[0mABCSeries\u001b[0m\u001b[1;33m)\u001b[0m \u001b[1;32mand\u001b[0m \u001b[1;32mnot\u001b[0m \u001b[0mself\u001b[0m\u001b[1;33m.\u001b[0m\u001b[0m_indexed_same\u001b[0m\u001b[1;33m(\u001b[0m\u001b[0mother\u001b[0m\u001b[1;33m)\u001b[0m\u001b[1;33m:\u001b[0m\u001b[1;33m\u001b[0m\u001b[0m\n\u001b[1;32m-> 1676\u001b[1;33m             raise ValueError(\"Can only compare identically-labeled \"\n\u001b[0m\u001b[0;32m   1677\u001b[0m                              \"Series objects\")\n\u001b[0;32m   1678\u001b[0m \u001b[1;33m\u001b[0m\u001b[0m\n",
      "\u001b[1;31mValueError\u001b[0m: Can only compare identically-labeled Series objects"
     ]
    }
   ],
   "source": [
    "#Which ones have the widest distribution of prices?\n",
    "distribution = shoes.groupby('brand').max()[\"Range\"]\n",
    "#widest = distribution[distribution == distribution.nlargest(3)]\n",
    "#print(\"The most expensive brand is {} with a price of {}\".format(next(highest.iteritems())[0],next(highest.iteritems())[1]))"
   ]
  },
  {
   "cell_type": "code",
   "execution_count": 421,
   "metadata": {},
   "outputs": [
    {
     "data": {
      "text/plain": [
       "brand\n",
       "Lowa    109.97\n",
       "Name: Range, dtype: float64"
      ]
     },
     "execution_count": 421,
     "metadata": {},
     "output_type": "execute_result"
    }
   ],
   "source": [
    "widest"
   ]
  },
  {
   "cell_type": "code",
   "execution_count": null,
   "metadata": {},
   "outputs": [],
   "source": [
    "#Is there a typical price distribution (e.g., normal) across brands or within specific brands?"
   ]
  }
 ],
 "metadata": {
  "kernelspec": {
   "display_name": "Python 3",
   "language": "python",
   "name": "python3"
  },
  "language_info": {
   "codemirror_mode": {
    "name": "ipython",
    "version": 3
   },
   "file_extension": ".py",
   "mimetype": "text/x-python",
   "name": "python",
   "nbconvert_exporter": "python",
   "pygments_lexer": "ipython3",
   "version": "3.6.5"
  }
 },
 "nbformat": 4,
 "nbformat_minor": 2
}
